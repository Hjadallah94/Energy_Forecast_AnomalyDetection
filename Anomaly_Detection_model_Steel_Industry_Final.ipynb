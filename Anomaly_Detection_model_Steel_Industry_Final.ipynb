{
 "cells": [
  {
   "cell_type": "markdown",
   "id": "09f3a894",
   "metadata": {},
   "source": [
    "# This is a Notebook for a Anomaly Detection Deep Learning Model for Energy Forecast"
   ]
  },
  {
   "cell_type": "markdown",
   "id": "829cfc7a-a28a-4dc3-84a8-6320545e6a56",
   "metadata": {},
   "source": [
    "## The dataset is collected from an open source online, representing a steel factory's energy readings"
   ]
  },
  {
   "cell_type": "markdown",
   "id": "2e92b9ea",
   "metadata": {},
   "source": [
    "## The first step is to explore the dataset\n",
    "\n",
    "## The second step is to pre-process the data\n",
    "\n",
    "## The third step is to develop the model"
   ]
  },
  {
   "cell_type": "markdown",
   "id": "909ffcce",
   "metadata": {},
   "source": [
    "### Data Exploration:"
   ]
  },
  {
   "cell_type": "code",
   "execution_count": 21,
   "id": "672e73fa",
   "metadata": {},
   "outputs": [],
   "source": [
    "import pandas as pd\n",
    "import numpy as np\n",
    "from datetime import datetime \n",
    "\n",
    "import matplotlib.pyplot as plt\n",
    "import seaborn as sns\n",
    "import xgboost as xgb\n",
    "\n",
    "from sklearn.metrics import mean_squared_error\n",
    "color_pal = sns.color_palette()\n",
    "plt.style.use('fivethirtyeight')\n",
    "\n",
    "from IPython.core.interactiveshell import InteractiveShell\n",
    "from sklearn.model_selection import train_test_split\n",
    "from tensorflow.keras.models import Sequential\n",
    "from tensorflow.keras.layers import Conv1D, MaxPooling1D, Flatten, Dense, Dropout\n",
    "from tensorflow.keras.layers import SimpleRNN\n",
    "from sklearn.metrics import precision_score, recall_score, f1_score\n",
    "\n"
   ]
  },
  {
   "cell_type": "code",
   "execution_count": 22,
   "id": "22832d40",
   "metadata": {},
   "outputs": [],
   "source": [
    "# Set the random seed for reproducibility of results\n",
    "\n",
    "rand_state = 1000\n",
    "\n",
    "# Configure pandas to display all columns when printing dataframes\n",
    "\n",
    "pd.set_option('display.max_columns', None)"
   ]
  },
  {
   "cell_type": "code",
   "execution_count": 23,
   "id": "5c07b72a",
   "metadata": {},
   "outputs": [],
   "source": [
    "# Set the level of interactivity for the IPython shell to 'all', \n",
    "# which allows all expressions in a cell to be evaluated and their results displayed\n",
    "\n",
    "InteractiveShell.ast_node_interactivity = \"all\""
   ]
  },
  {
   "cell_type": "code",
   "execution_count": null,
   "id": "5000d70a",
   "metadata": {},
   "outputs": [],
   "source": [
    "# Read the CSV file containing the dataset\n",
    "\n",
    "df1 = pd.read_csv('First_Dataset_Steel_Industry_data.csv')"
   ]
  },
  {
   "cell_type": "code",
   "execution_count": 25,
   "id": "58bcaf39",
   "metadata": {
    "scrolled": true
   },
   "outputs": [
    {
     "data": {
      "text/html": [
       "<div>\n",
       "<style scoped>\n",
       "    .dataframe tbody tr th:only-of-type {\n",
       "        vertical-align: middle;\n",
       "    }\n",
       "\n",
       "    .dataframe tbody tr th {\n",
       "        vertical-align: top;\n",
       "    }\n",
       "\n",
       "    .dataframe thead th {\n",
       "        text-align: right;\n",
       "    }\n",
       "</style>\n",
       "<table border=\"1\" class=\"dataframe\">\n",
       "  <thead>\n",
       "    <tr style=\"text-align: right;\">\n",
       "      <th></th>\n",
       "      <th>date</th>\n",
       "      <th>Usage_kWh</th>\n",
       "      <th>Lagging_Current_Reactive.Power_kVarh</th>\n",
       "      <th>Leading_Current_Reactive_Power_kVarh</th>\n",
       "      <th>CO2(tCO2)</th>\n",
       "      <th>Lagging_Current_Power_Factor</th>\n",
       "      <th>Leading_Current_Power_Factor</th>\n",
       "      <th>NSM</th>\n",
       "      <th>WeekStatus</th>\n",
       "      <th>Day_of_week</th>\n",
       "      <th>Load_Type</th>\n",
       "    </tr>\n",
       "  </thead>\n",
       "  <tbody>\n",
       "    <tr>\n",
       "      <th>0</th>\n",
       "      <td>1/1/2018 0:15</td>\n",
       "      <td>3.17</td>\n",
       "      <td>2.95</td>\n",
       "      <td>0.00</td>\n",
       "      <td>0.0</td>\n",
       "      <td>73.21</td>\n",
       "      <td>100.00</td>\n",
       "      <td>900</td>\n",
       "      <td>Weekday</td>\n",
       "      <td>Monday</td>\n",
       "      <td>Light_Load</td>\n",
       "    </tr>\n",
       "    <tr>\n",
       "      <th>1</th>\n",
       "      <td>1/1/2018 0:30</td>\n",
       "      <td>4.00</td>\n",
       "      <td>4.46</td>\n",
       "      <td>0.00</td>\n",
       "      <td>0.0</td>\n",
       "      <td>66.77</td>\n",
       "      <td>100.00</td>\n",
       "      <td>1800</td>\n",
       "      <td>Weekday</td>\n",
       "      <td>Monday</td>\n",
       "      <td>Light_Load</td>\n",
       "    </tr>\n",
       "    <tr>\n",
       "      <th>2</th>\n",
       "      <td>1/1/2018 0:45</td>\n",
       "      <td>3.24</td>\n",
       "      <td>3.28</td>\n",
       "      <td>0.00</td>\n",
       "      <td>0.0</td>\n",
       "      <td>70.28</td>\n",
       "      <td>100.00</td>\n",
       "      <td>2700</td>\n",
       "      <td>Weekday</td>\n",
       "      <td>Monday</td>\n",
       "      <td>Light_Load</td>\n",
       "    </tr>\n",
       "    <tr>\n",
       "      <th>3</th>\n",
       "      <td>1/1/2018 1:00</td>\n",
       "      <td>3.31</td>\n",
       "      <td>3.56</td>\n",
       "      <td>0.00</td>\n",
       "      <td>0.0</td>\n",
       "      <td>68.09</td>\n",
       "      <td>100.00</td>\n",
       "      <td>3600</td>\n",
       "      <td>Weekday</td>\n",
       "      <td>Monday</td>\n",
       "      <td>Light_Load</td>\n",
       "    </tr>\n",
       "    <tr>\n",
       "      <th>4</th>\n",
       "      <td>1/1/2018 1:15</td>\n",
       "      <td>3.82</td>\n",
       "      <td>4.50</td>\n",
       "      <td>0.00</td>\n",
       "      <td>0.0</td>\n",
       "      <td>64.72</td>\n",
       "      <td>100.00</td>\n",
       "      <td>4500</td>\n",
       "      <td>Weekday</td>\n",
       "      <td>Monday</td>\n",
       "      <td>Light_Load</td>\n",
       "    </tr>\n",
       "    <tr>\n",
       "      <th>...</th>\n",
       "      <td>...</td>\n",
       "      <td>...</td>\n",
       "      <td>...</td>\n",
       "      <td>...</td>\n",
       "      <td>...</td>\n",
       "      <td>...</td>\n",
       "      <td>...</td>\n",
       "      <td>...</td>\n",
       "      <td>...</td>\n",
       "      <td>...</td>\n",
       "      <td>...</td>\n",
       "    </tr>\n",
       "    <tr>\n",
       "      <th>35035</th>\n",
       "      <td>31/12/2018 23:00</td>\n",
       "      <td>3.85</td>\n",
       "      <td>4.86</td>\n",
       "      <td>0.00</td>\n",
       "      <td>0.0</td>\n",
       "      <td>62.10</td>\n",
       "      <td>100.00</td>\n",
       "      <td>82800</td>\n",
       "      <td>Weekday</td>\n",
       "      <td>Monday</td>\n",
       "      <td>Light_Load</td>\n",
       "    </tr>\n",
       "    <tr>\n",
       "      <th>35036</th>\n",
       "      <td>31/12/2018 23:15</td>\n",
       "      <td>3.74</td>\n",
       "      <td>3.74</td>\n",
       "      <td>0.00</td>\n",
       "      <td>0.0</td>\n",
       "      <td>70.71</td>\n",
       "      <td>100.00</td>\n",
       "      <td>83700</td>\n",
       "      <td>Weekday</td>\n",
       "      <td>Monday</td>\n",
       "      <td>Light_Load</td>\n",
       "    </tr>\n",
       "    <tr>\n",
       "      <th>35037</th>\n",
       "      <td>31/12/2018 23:30</td>\n",
       "      <td>3.78</td>\n",
       "      <td>3.17</td>\n",
       "      <td>0.07</td>\n",
       "      <td>0.0</td>\n",
       "      <td>76.62</td>\n",
       "      <td>99.98</td>\n",
       "      <td>84600</td>\n",
       "      <td>Weekday</td>\n",
       "      <td>Monday</td>\n",
       "      <td>Light_Load</td>\n",
       "    </tr>\n",
       "    <tr>\n",
       "      <th>35038</th>\n",
       "      <td>31/12/2018 23:45</td>\n",
       "      <td>3.78</td>\n",
       "      <td>3.06</td>\n",
       "      <td>0.11</td>\n",
       "      <td>0.0</td>\n",
       "      <td>77.72</td>\n",
       "      <td>99.96</td>\n",
       "      <td>85500</td>\n",
       "      <td>Weekday</td>\n",
       "      <td>Monday</td>\n",
       "      <td>Light_Load</td>\n",
       "    </tr>\n",
       "    <tr>\n",
       "      <th>35039</th>\n",
       "      <td>31/12/2018 00:00</td>\n",
       "      <td>3.67</td>\n",
       "      <td>3.02</td>\n",
       "      <td>0.07</td>\n",
       "      <td>0.0</td>\n",
       "      <td>77.22</td>\n",
       "      <td>99.98</td>\n",
       "      <td>0</td>\n",
       "      <td>Weekday</td>\n",
       "      <td>Monday</td>\n",
       "      <td>Light_Load</td>\n",
       "    </tr>\n",
       "  </tbody>\n",
       "</table>\n",
       "<p>35040 rows × 11 columns</p>\n",
       "</div>"
      ],
      "text/plain": [
       "                   date  Usage_kWh  Lagging_Current_Reactive.Power_kVarh  \\\n",
       "0         1/1/2018 0:15       3.17                                  2.95   \n",
       "1         1/1/2018 0:30       4.00                                  4.46   \n",
       "2         1/1/2018 0:45       3.24                                  3.28   \n",
       "3         1/1/2018 1:00       3.31                                  3.56   \n",
       "4         1/1/2018 1:15       3.82                                  4.50   \n",
       "...                 ...        ...                                   ...   \n",
       "35035  31/12/2018 23:00       3.85                                  4.86   \n",
       "35036  31/12/2018 23:15       3.74                                  3.74   \n",
       "35037  31/12/2018 23:30       3.78                                  3.17   \n",
       "35038  31/12/2018 23:45       3.78                                  3.06   \n",
       "35039  31/12/2018 00:00       3.67                                  3.02   \n",
       "\n",
       "       Leading_Current_Reactive_Power_kVarh  CO2(tCO2)  \\\n",
       "0                                      0.00        0.0   \n",
       "1                                      0.00        0.0   \n",
       "2                                      0.00        0.0   \n",
       "3                                      0.00        0.0   \n",
       "4                                      0.00        0.0   \n",
       "...                                     ...        ...   \n",
       "35035                                  0.00        0.0   \n",
       "35036                                  0.00        0.0   \n",
       "35037                                  0.07        0.0   \n",
       "35038                                  0.11        0.0   \n",
       "35039                                  0.07        0.0   \n",
       "\n",
       "       Lagging_Current_Power_Factor  Leading_Current_Power_Factor    NSM  \\\n",
       "0                             73.21                        100.00    900   \n",
       "1                             66.77                        100.00   1800   \n",
       "2                             70.28                        100.00   2700   \n",
       "3                             68.09                        100.00   3600   \n",
       "4                             64.72                        100.00   4500   \n",
       "...                             ...                           ...    ...   \n",
       "35035                         62.10                        100.00  82800   \n",
       "35036                         70.71                        100.00  83700   \n",
       "35037                         76.62                         99.98  84600   \n",
       "35038                         77.72                         99.96  85500   \n",
       "35039                         77.22                         99.98      0   \n",
       "\n",
       "      WeekStatus Day_of_week   Load_Type  \n",
       "0        Weekday      Monday  Light_Load  \n",
       "1        Weekday      Monday  Light_Load  \n",
       "2        Weekday      Monday  Light_Load  \n",
       "3        Weekday      Monday  Light_Load  \n",
       "4        Weekday      Monday  Light_Load  \n",
       "...          ...         ...         ...  \n",
       "35035    Weekday      Monday  Light_Load  \n",
       "35036    Weekday      Monday  Light_Load  \n",
       "35037    Weekday      Monday  Light_Load  \n",
       "35038    Weekday      Monday  Light_Load  \n",
       "35039    Weekday      Monday  Light_Load  \n",
       "\n",
       "[35040 rows x 11 columns]"
      ]
     },
     "execution_count": 25,
     "metadata": {},
     "output_type": "execute_result"
    }
   ],
   "source": [
    "# Display the data frame\n",
    "\n",
    "df1"
   ]
  },
  {
   "cell_type": "code",
   "execution_count": 26,
   "id": "57a8d1ac",
   "metadata": {},
   "outputs": [
    {
     "data": {
      "text/plain": [
       "(35040, 11)"
      ]
     },
     "execution_count": 26,
     "metadata": {},
     "output_type": "execute_result"
    },
    {
     "data": {
      "text/plain": [
       "Index(['date', 'Usage_kWh', 'Lagging_Current_Reactive.Power_kVarh',\n",
       "       'Leading_Current_Reactive_Power_kVarh', 'CO2(tCO2)',\n",
       "       'Lagging_Current_Power_Factor', 'Leading_Current_Power_Factor', 'NSM',\n",
       "       'WeekStatus', 'Day_of_week', 'Load_Type'],\n",
       "      dtype='object')"
      ]
     },
     "execution_count": 26,
     "metadata": {},
     "output_type": "execute_result"
    },
    {
     "name": "stdout",
     "output_type": "stream",
     "text": [
      "<class 'pandas.core.frame.DataFrame'>\n",
      "RangeIndex: 35040 entries, 0 to 35039\n",
      "Data columns (total 11 columns):\n",
      " #   Column                                Non-Null Count  Dtype  \n",
      "---  ------                                --------------  -----  \n",
      " 0   date                                  35040 non-null  object \n",
      " 1   Usage_kWh                             35040 non-null  float64\n",
      " 2   Lagging_Current_Reactive.Power_kVarh  35040 non-null  float64\n",
      " 3   Leading_Current_Reactive_Power_kVarh  35040 non-null  float64\n",
      " 4   CO2(tCO2)                             35040 non-null  float64\n",
      " 5   Lagging_Current_Power_Factor          35040 non-null  float64\n",
      " 6   Leading_Current_Power_Factor          35040 non-null  float64\n",
      " 7   NSM                                   35040 non-null  int64  \n",
      " 8   WeekStatus                            35040 non-null  object \n",
      " 9   Day_of_week                           35040 non-null  object \n",
      " 10  Load_Type                             35040 non-null  object \n",
      "dtypes: float64(6), int64(1), object(4)\n",
      "memory usage: 2.9+ MB\n"
     ]
    }
   ],
   "source": [
    "# Check some important information about the data, to gain a better understanding of it\n",
    "\n",
    "df1.shape\n",
    "df1.columns\n",
    "df1.info()"
   ]
  },
  {
   "cell_type": "code",
   "execution_count": 27,
   "id": "49383d2d",
   "metadata": {},
   "outputs": [
    {
     "data": {
      "text/plain": [
       "date                                     object\n",
       "Usage_kWh                               float64\n",
       "Lagging_Current_Reactive.Power_kVarh    float64\n",
       "Leading_Current_Reactive_Power_kVarh    float64\n",
       "CO2(tCO2)                               float64\n",
       "Lagging_Current_Power_Factor            float64\n",
       "Leading_Current_Power_Factor            float64\n",
       "NSM                                       int64\n",
       "WeekStatus                               object\n",
       "Day_of_week                              object\n",
       "Load_Type                                object\n",
       "dtype: object"
      ]
     },
     "execution_count": 27,
     "metadata": {},
     "output_type": "execute_result"
    }
   ],
   "source": [
    "# Display the data types\n",
    "\n",
    "df1.dtypes"
   ]
  },
  {
   "cell_type": "code",
   "execution_count": 28,
   "id": "4b7dadcb",
   "metadata": {},
   "outputs": [
    {
     "data": {
      "text/html": [
       "<div>\n",
       "<style scoped>\n",
       "    .dataframe tbody tr th:only-of-type {\n",
       "        vertical-align: middle;\n",
       "    }\n",
       "\n",
       "    .dataframe tbody tr th {\n",
       "        vertical-align: top;\n",
       "    }\n",
       "\n",
       "    .dataframe thead th {\n",
       "        text-align: right;\n",
       "    }\n",
       "</style>\n",
       "<table border=\"1\" class=\"dataframe\">\n",
       "  <thead>\n",
       "    <tr style=\"text-align: right;\">\n",
       "      <th></th>\n",
       "      <th>date</th>\n",
       "      <th>Usage_kWh</th>\n",
       "      <th>Lagging_Current_Reactive.Power_kVarh</th>\n",
       "      <th>Leading_Current_Reactive_Power_kVarh</th>\n",
       "      <th>CO2(tCO2)</th>\n",
       "      <th>Lagging_Current_Power_Factor</th>\n",
       "      <th>Leading_Current_Power_Factor</th>\n",
       "      <th>NSM</th>\n",
       "      <th>WeekStatus</th>\n",
       "      <th>Day_of_week</th>\n",
       "      <th>Load_Type</th>\n",
       "    </tr>\n",
       "  </thead>\n",
       "  <tbody>\n",
       "    <tr>\n",
       "      <th>0</th>\n",
       "      <td>2018-01-01 00:15:00</td>\n",
       "      <td>3.17</td>\n",
       "      <td>2.95</td>\n",
       "      <td>0.00</td>\n",
       "      <td>0.0</td>\n",
       "      <td>73.21</td>\n",
       "      <td>100.00</td>\n",
       "      <td>900</td>\n",
       "      <td>Weekday</td>\n",
       "      <td>Monday</td>\n",
       "      <td>Light_Load</td>\n",
       "    </tr>\n",
       "    <tr>\n",
       "      <th>1</th>\n",
       "      <td>2018-01-01 00:30:00</td>\n",
       "      <td>4.00</td>\n",
       "      <td>4.46</td>\n",
       "      <td>0.00</td>\n",
       "      <td>0.0</td>\n",
       "      <td>66.77</td>\n",
       "      <td>100.00</td>\n",
       "      <td>1800</td>\n",
       "      <td>Weekday</td>\n",
       "      <td>Monday</td>\n",
       "      <td>Light_Load</td>\n",
       "    </tr>\n",
       "    <tr>\n",
       "      <th>2</th>\n",
       "      <td>2018-01-01 00:45:00</td>\n",
       "      <td>3.24</td>\n",
       "      <td>3.28</td>\n",
       "      <td>0.00</td>\n",
       "      <td>0.0</td>\n",
       "      <td>70.28</td>\n",
       "      <td>100.00</td>\n",
       "      <td>2700</td>\n",
       "      <td>Weekday</td>\n",
       "      <td>Monday</td>\n",
       "      <td>Light_Load</td>\n",
       "    </tr>\n",
       "    <tr>\n",
       "      <th>3</th>\n",
       "      <td>2018-01-01 01:00:00</td>\n",
       "      <td>3.31</td>\n",
       "      <td>3.56</td>\n",
       "      <td>0.00</td>\n",
       "      <td>0.0</td>\n",
       "      <td>68.09</td>\n",
       "      <td>100.00</td>\n",
       "      <td>3600</td>\n",
       "      <td>Weekday</td>\n",
       "      <td>Monday</td>\n",
       "      <td>Light_Load</td>\n",
       "    </tr>\n",
       "    <tr>\n",
       "      <th>4</th>\n",
       "      <td>2018-01-01 01:15:00</td>\n",
       "      <td>3.82</td>\n",
       "      <td>4.50</td>\n",
       "      <td>0.00</td>\n",
       "      <td>0.0</td>\n",
       "      <td>64.72</td>\n",
       "      <td>100.00</td>\n",
       "      <td>4500</td>\n",
       "      <td>Weekday</td>\n",
       "      <td>Monday</td>\n",
       "      <td>Light_Load</td>\n",
       "    </tr>\n",
       "    <tr>\n",
       "      <th>...</th>\n",
       "      <td>...</td>\n",
       "      <td>...</td>\n",
       "      <td>...</td>\n",
       "      <td>...</td>\n",
       "      <td>...</td>\n",
       "      <td>...</td>\n",
       "      <td>...</td>\n",
       "      <td>...</td>\n",
       "      <td>...</td>\n",
       "      <td>...</td>\n",
       "      <td>...</td>\n",
       "    </tr>\n",
       "    <tr>\n",
       "      <th>35035</th>\n",
       "      <td>2018-12-31 23:00:00</td>\n",
       "      <td>3.85</td>\n",
       "      <td>4.86</td>\n",
       "      <td>0.00</td>\n",
       "      <td>0.0</td>\n",
       "      <td>62.10</td>\n",
       "      <td>100.00</td>\n",
       "      <td>82800</td>\n",
       "      <td>Weekday</td>\n",
       "      <td>Monday</td>\n",
       "      <td>Light_Load</td>\n",
       "    </tr>\n",
       "    <tr>\n",
       "      <th>35036</th>\n",
       "      <td>2018-12-31 23:15:00</td>\n",
       "      <td>3.74</td>\n",
       "      <td>3.74</td>\n",
       "      <td>0.00</td>\n",
       "      <td>0.0</td>\n",
       "      <td>70.71</td>\n",
       "      <td>100.00</td>\n",
       "      <td>83700</td>\n",
       "      <td>Weekday</td>\n",
       "      <td>Monday</td>\n",
       "      <td>Light_Load</td>\n",
       "    </tr>\n",
       "    <tr>\n",
       "      <th>35037</th>\n",
       "      <td>2018-12-31 23:30:00</td>\n",
       "      <td>3.78</td>\n",
       "      <td>3.17</td>\n",
       "      <td>0.07</td>\n",
       "      <td>0.0</td>\n",
       "      <td>76.62</td>\n",
       "      <td>99.98</td>\n",
       "      <td>84600</td>\n",
       "      <td>Weekday</td>\n",
       "      <td>Monday</td>\n",
       "      <td>Light_Load</td>\n",
       "    </tr>\n",
       "    <tr>\n",
       "      <th>35038</th>\n",
       "      <td>2018-12-31 23:45:00</td>\n",
       "      <td>3.78</td>\n",
       "      <td>3.06</td>\n",
       "      <td>0.11</td>\n",
       "      <td>0.0</td>\n",
       "      <td>77.72</td>\n",
       "      <td>99.96</td>\n",
       "      <td>85500</td>\n",
       "      <td>Weekday</td>\n",
       "      <td>Monday</td>\n",
       "      <td>Light_Load</td>\n",
       "    </tr>\n",
       "    <tr>\n",
       "      <th>35039</th>\n",
       "      <td>2018-12-31 00:00:00</td>\n",
       "      <td>3.67</td>\n",
       "      <td>3.02</td>\n",
       "      <td>0.07</td>\n",
       "      <td>0.0</td>\n",
       "      <td>77.22</td>\n",
       "      <td>99.98</td>\n",
       "      <td>0</td>\n",
       "      <td>Weekday</td>\n",
       "      <td>Monday</td>\n",
       "      <td>Light_Load</td>\n",
       "    </tr>\n",
       "  </tbody>\n",
       "</table>\n",
       "<p>35040 rows × 11 columns</p>\n",
       "</div>"
      ],
      "text/plain": [
       "                     date  Usage_kWh  Lagging_Current_Reactive.Power_kVarh  \\\n",
       "0     2018-01-01 00:15:00       3.17                                  2.95   \n",
       "1     2018-01-01 00:30:00       4.00                                  4.46   \n",
       "2     2018-01-01 00:45:00       3.24                                  3.28   \n",
       "3     2018-01-01 01:00:00       3.31                                  3.56   \n",
       "4     2018-01-01 01:15:00       3.82                                  4.50   \n",
       "...                   ...        ...                                   ...   \n",
       "35035 2018-12-31 23:00:00       3.85                                  4.86   \n",
       "35036 2018-12-31 23:15:00       3.74                                  3.74   \n",
       "35037 2018-12-31 23:30:00       3.78                                  3.17   \n",
       "35038 2018-12-31 23:45:00       3.78                                  3.06   \n",
       "35039 2018-12-31 00:00:00       3.67                                  3.02   \n",
       "\n",
       "       Leading_Current_Reactive_Power_kVarh  CO2(tCO2)  \\\n",
       "0                                      0.00        0.0   \n",
       "1                                      0.00        0.0   \n",
       "2                                      0.00        0.0   \n",
       "3                                      0.00        0.0   \n",
       "4                                      0.00        0.0   \n",
       "...                                     ...        ...   \n",
       "35035                                  0.00        0.0   \n",
       "35036                                  0.00        0.0   \n",
       "35037                                  0.07        0.0   \n",
       "35038                                  0.11        0.0   \n",
       "35039                                  0.07        0.0   \n",
       "\n",
       "       Lagging_Current_Power_Factor  Leading_Current_Power_Factor    NSM  \\\n",
       "0                             73.21                        100.00    900   \n",
       "1                             66.77                        100.00   1800   \n",
       "2                             70.28                        100.00   2700   \n",
       "3                             68.09                        100.00   3600   \n",
       "4                             64.72                        100.00   4500   \n",
       "...                             ...                           ...    ...   \n",
       "35035                         62.10                        100.00  82800   \n",
       "35036                         70.71                        100.00  83700   \n",
       "35037                         76.62                         99.98  84600   \n",
       "35038                         77.72                         99.96  85500   \n",
       "35039                         77.22                         99.98      0   \n",
       "\n",
       "      WeekStatus Day_of_week   Load_Type  \n",
       "0        Weekday      Monday  Light_Load  \n",
       "1        Weekday      Monday  Light_Load  \n",
       "2        Weekday      Monday  Light_Load  \n",
       "3        Weekday      Monday  Light_Load  \n",
       "4        Weekday      Monday  Light_Load  \n",
       "...          ...         ...         ...  \n",
       "35035    Weekday      Monday  Light_Load  \n",
       "35036    Weekday      Monday  Light_Load  \n",
       "35037    Weekday      Monday  Light_Load  \n",
       "35038    Weekday      Monday  Light_Load  \n",
       "35039    Weekday      Monday  Light_Load  \n",
       "\n",
       "[35040 rows x 11 columns]"
      ]
     },
     "execution_count": 28,
     "metadata": {},
     "output_type": "execute_result"
    }
   ],
   "source": [
    "# Change the date column to datetime data type\n",
    "\n",
    "df1['date'] = pd.to_datetime(df1['date'])\n",
    "df1"
   ]
  },
  {
   "cell_type": "code",
   "execution_count": 29,
   "id": "9a607fea",
   "metadata": {},
   "outputs": [
    {
     "data": {
      "text/plain": [
       "date                                    datetime64[ns]\n",
       "Usage_kWh                                      float64\n",
       "Lagging_Current_Reactive.Power_kVarh           float64\n",
       "Leading_Current_Reactive_Power_kVarh           float64\n",
       "CO2(tCO2)                                      float64\n",
       "Lagging_Current_Power_Factor                   float64\n",
       "Leading_Current_Power_Factor                   float64\n",
       "NSM                                              int64\n",
       "WeekStatus                                      object\n",
       "Day_of_week                                     object\n",
       "Load_Type                                       object\n",
       "dtype: object"
      ]
     },
     "execution_count": 29,
     "metadata": {},
     "output_type": "execute_result"
    }
   ],
   "source": [
    "df1.dtypes"
   ]
  },
  {
   "cell_type": "code",
   "execution_count": 31,
   "id": "c17f1fcb",
   "metadata": {},
   "outputs": [
    {
     "data": {
      "text/html": [
       "<div>\n",
       "<style scoped>\n",
       "    .dataframe tbody tr th:only-of-type {\n",
       "        vertical-align: middle;\n",
       "    }\n",
       "\n",
       "    .dataframe tbody tr th {\n",
       "        vertical-align: top;\n",
       "    }\n",
       "\n",
       "    .dataframe thead th {\n",
       "        text-align: right;\n",
       "    }\n",
       "</style>\n",
       "<table border=\"1\" class=\"dataframe\">\n",
       "  <thead>\n",
       "    <tr style=\"text-align: right;\">\n",
       "      <th></th>\n",
       "      <th>Usage_kWh</th>\n",
       "    </tr>\n",
       "    <tr>\n",
       "      <th>date</th>\n",
       "      <th></th>\n",
       "    </tr>\n",
       "  </thead>\n",
       "  <tbody>\n",
       "    <tr>\n",
       "      <th>2018-01-01 00:15:00</th>\n",
       "      <td>3.17</td>\n",
       "    </tr>\n",
       "    <tr>\n",
       "      <th>2018-01-01 00:30:00</th>\n",
       "      <td>4.00</td>\n",
       "    </tr>\n",
       "    <tr>\n",
       "      <th>2018-01-01 00:45:00</th>\n",
       "      <td>3.24</td>\n",
       "    </tr>\n",
       "    <tr>\n",
       "      <th>2018-01-01 01:00:00</th>\n",
       "      <td>3.31</td>\n",
       "    </tr>\n",
       "    <tr>\n",
       "      <th>2018-01-01 01:15:00</th>\n",
       "      <td>3.82</td>\n",
       "    </tr>\n",
       "    <tr>\n",
       "      <th>...</th>\n",
       "      <td>...</td>\n",
       "    </tr>\n",
       "    <tr>\n",
       "      <th>2018-12-31 23:00:00</th>\n",
       "      <td>3.85</td>\n",
       "    </tr>\n",
       "    <tr>\n",
       "      <th>2018-12-31 23:15:00</th>\n",
       "      <td>3.74</td>\n",
       "    </tr>\n",
       "    <tr>\n",
       "      <th>2018-12-31 23:30:00</th>\n",
       "      <td>3.78</td>\n",
       "    </tr>\n",
       "    <tr>\n",
       "      <th>2018-12-31 23:45:00</th>\n",
       "      <td>3.78</td>\n",
       "    </tr>\n",
       "    <tr>\n",
       "      <th>2018-12-31 00:00:00</th>\n",
       "      <td>3.67</td>\n",
       "    </tr>\n",
       "  </tbody>\n",
       "</table>\n",
       "<p>35040 rows × 1 columns</p>\n",
       "</div>"
      ],
      "text/plain": [
       "                     Usage_kWh\n",
       "date                          \n",
       "2018-01-01 00:15:00       3.17\n",
       "2018-01-01 00:30:00       4.00\n",
       "2018-01-01 00:45:00       3.24\n",
       "2018-01-01 01:00:00       3.31\n",
       "2018-01-01 01:15:00       3.82\n",
       "...                        ...\n",
       "2018-12-31 23:00:00       3.85\n",
       "2018-12-31 23:15:00       3.74\n",
       "2018-12-31 23:30:00       3.78\n",
       "2018-12-31 23:45:00       3.78\n",
       "2018-12-31 00:00:00       3.67\n",
       "\n",
       "[35040 rows x 1 columns]"
      ]
     },
     "execution_count": 31,
     "metadata": {},
     "output_type": "execute_result"
    }
   ],
   "source": [
    "# Drop a few columns that will not be used in the model\n",
    "\n",
    "cols_to_drop=['Lagging_Current_Reactive.Power_kVarh','Leading_Current_Reactive_Power_kVarh','CO2(tCO2)'\n",
    "              ,'Lagging_Current_Power_Factor','Leading_Current_Power_Factor','NSM','WeekStatus'\n",
    "              ,'Day_of_week','Load_Type']\n",
    "\n",
    "# Set the date column as the index\n",
    "\n",
    "df1_short = df1.drop(cols_to_drop,axis=1, inplace=False)\n",
    "\n",
    "df1_short.set_index('date', inplace=True)\n",
    "\n",
    "df1_short"
   ]
  },
  {
   "cell_type": "code",
   "execution_count": 32,
   "id": "e37f6c24",
   "metadata": {},
   "outputs": [
    {
     "data": {
      "text/plain": [
       "Usage_kWh    float64\n",
       "dtype: object"
      ]
     },
     "execution_count": 32,
     "metadata": {},
     "output_type": "execute_result"
    }
   ],
   "source": [
    "df1_short.dtypes"
   ]
  },
  {
   "cell_type": "code",
   "execution_count": 33,
   "id": "f0d81945",
   "metadata": {},
   "outputs": [
    {
     "data": {
      "text/plain": [
       "'\\nCreating a plot to see the energy usage along the full time period of the data set\\n\\n'"
      ]
     },
     "execution_count": 33,
     "metadata": {},
     "output_type": "execute_result"
    },
    {
     "data": {
      "text/plain": [
       "<AxesSubplot:title={'center':'Energy_Usage'}, xlabel='date'>"
      ]
     },
     "execution_count": 33,
     "metadata": {},
     "output_type": "execute_result"
    },
    {
     "data": {
      "image/png": "[encoded data removed]",
      "text/plain": [
       "<Figure size 1080x360 with 1 Axes>"
      ]
     },
     "metadata": {},
     "output_type": "display_data"
    }
   ],
   "source": [
    "\"\"\"\n",
    "Creating a plot to see the energy usage along the full time period of the data set\n",
    "\n",
    "\"\"\"\n",
    "\n",
    "df1_short.plot(style='.',\n",
    "        figsize=(15, 5),\n",
    "        color=color_pal[0],\n",
    "        title='Energy_Usage')\n",
    "plt.show()"
   ]
  },
  {
   "cell_type": "code",
   "execution_count": 34,
   "id": "9ad6eae0",
   "metadata": {
    "scrolled": true
   },
   "outputs": [
    {
     "data": {
      "text/html": [
       "<div>\n",
       "<style scoped>\n",
       "    .dataframe tbody tr th:only-of-type {\n",
       "        vertical-align: middle;\n",
       "    }\n",
       "\n",
       "    .dataframe tbody tr th {\n",
       "        vertical-align: top;\n",
       "    }\n",
       "\n",
       "    .dataframe thead th {\n",
       "        text-align: right;\n",
       "    }\n",
       "</style>\n",
       "<table border=\"1\" class=\"dataframe\">\n",
       "  <thead>\n",
       "    <tr style=\"text-align: right;\">\n",
       "      <th></th>\n",
       "      <th>Usage_kWh</th>\n",
       "    </tr>\n",
       "  </thead>\n",
       "  <tbody>\n",
       "    <tr>\n",
       "      <th>count</th>\n",
       "      <td>35040.000000</td>\n",
       "    </tr>\n",
       "    <tr>\n",
       "      <th>mean</th>\n",
       "      <td>27.386892</td>\n",
       "    </tr>\n",
       "    <tr>\n",
       "      <th>std</th>\n",
       "      <td>33.444380</td>\n",
       "    </tr>\n",
       "    <tr>\n",
       "      <th>min</th>\n",
       "      <td>0.000000</td>\n",
       "    </tr>\n",
       "    <tr>\n",
       "      <th>25%</th>\n",
       "      <td>3.200000</td>\n",
       "    </tr>\n",
       "    <tr>\n",
       "      <th>50%</th>\n",
       "      <td>4.570000</td>\n",
       "    </tr>\n",
       "    <tr>\n",
       "      <th>75%</th>\n",
       "      <td>51.237500</td>\n",
       "    </tr>\n",
       "    <tr>\n",
       "      <th>max</th>\n",
       "      <td>157.180000</td>\n",
       "    </tr>\n",
       "  </tbody>\n",
       "</table>\n",
       "</div>"
      ],
      "text/plain": [
       "          Usage_kWh\n",
       "count  35040.000000\n",
       "mean      27.386892\n",
       "std       33.444380\n",
       "min        0.000000\n",
       "25%        3.200000\n",
       "50%        4.570000\n",
       "75%       51.237500\n",
       "max      157.180000"
      ]
     },
     "execution_count": 34,
     "metadata": {},
     "output_type": "execute_result"
    }
   ],
   "source": [
    "# Get statistical information about the data frame\n",
    "\n",
    "df1_short.describe()"
   ]
  },
  {
   "cell_type": "code",
   "execution_count": 38,
   "id": "0eadfefa",
   "metadata": {},
   "outputs": [
    {
     "data": {
      "text/plain": [
       "[<matplotlib.lines.Line2D at 0x1be24afd2e0>]"
      ]
     },
     "execution_count": 38,
     "metadata": {},
     "output_type": "execute_result"
    },
    {
     "data": {
      "text/plain": [
       "<matplotlib.lines.Line2D at 0x1be24af3280>"
      ]
     },
     "execution_count": 38,
     "metadata": {},
     "output_type": "execute_result"
    },
    {
     "data": {
      "text/plain": [
       "<matplotlib.lines.Line2D at 0x1be243b0640>"
      ]
     },
     "execution_count": 38,
     "metadata": {},
     "output_type": "execute_result"
    },
    {
     "data": {
      "text/plain": [
       "<matplotlib.lines.Line2D at 0x1be24afdf40>"
      ]
     },
     "execution_count": 38,
     "metadata": {},
     "output_type": "execute_result"
    },
    {
     "data": {
      "text/plain": [
       "Text(0.05, 0.9, 'Mean: 27.39')"
      ]
     },
     "execution_count": 38,
     "metadata": {},
     "output_type": "execute_result"
    },
    {
     "data": {
      "text/plain": [
       "Text(0.05, 0.85, 'Max: 157.18')"
      ]
     },
     "execution_count": 38,
     "metadata": {},
     "output_type": "execute_result"
    },
    {
     "data": {
      "text/plain": [
       "Text(0.05, 0.8, 'Min: 0.00')"
      ]
     },
     "execution_count": 38,
     "metadata": {},
     "output_type": "execute_result"
    },
    {
     "data": {
      "text/plain": [
       "Text(0.5, 1.0, 'Usage_kWh')"
      ]
     },
     "execution_count": 38,
     "metadata": {},
     "output_type": "execute_result"
    },
    {
     "data": {
      "text/plain": [
       "<matplotlib.legend.Legend at 0x1be24af3250>"
      ]
     },
     "execution_count": 38,
     "metadata": {},
     "output_type": "execute_result"
    },
    {
     "data": {
      "image/png": "[encoded data removed]",
      "text/plain": [
       "<Figure size 432x288 with 1 Axes>"
      ]
     },
     "metadata": {},
     "output_type": "display_data"
    }
   ],
   "source": [
    "# Calculate mean, maximum, minimum, and standard deviation for the selected column\n",
    "column_name = 'Usage_kWh'\n",
    "statistics = df1_short[column_name].describe()\n",
    "\n",
    "# Plot bell curve for the selected column\n",
    "mean = statistics.loc['mean']\n",
    "std_dev = statistics.loc['std']\n",
    "\n",
    "# Generate x values for the bell curve\n",
    "x = np.linspace(mean - 3*std_dev, mean + 3*std_dev, 100)\n",
    "\n",
    "# Calculate the bell curve values\n",
    "bell_curve = 1 / (std_dev * np.sqrt(2 * np.pi)) * np.exp(-(x - mean)**2 / (2 * std_dev**2))\n",
    "\n",
    "# Plot bell curve\n",
    "plt.plot(x, bell_curve, color='blue')\n",
    "\n",
    "# Plot standard deviation lines\n",
    "std_dev_values = [mean - std_dev, mean + std_dev]\n",
    "plt.axvline(x=mean, color='red', linestyle='--', label='Mean')\n",
    "plt.axvline(x=std_dev_values[0], color='green', linestyle='--', label='Standard Deviation')\n",
    "plt.axvline(x=std_dev_values[1], color='green', linestyle='--')\n",
    "\n",
    "# Annotate mean, maximum, and minimum points\n",
    "plt.annotate('Mean: {:.2f}'.format(mean), xy=(0.05, 0.9), xycoords='axes fraction', fontsize=10)\n",
    "plt.annotate('Max: {:.2f}'.format(statistics.loc['max']), xy=(0.05, 0.85), xycoords='axes fraction', fontsize=10)\n",
    "plt.annotate('Min: {:.2f}'.format(statistics.loc['min']), xy=(0.05, 0.8), xycoords='axes fraction', fontsize=10)\n",
    "\n",
    "# Set title for the plot\n",
    "plt.title(column_name)\n",
    "plt.legend()\n",
    "\n",
    "plt.tight_layout()\n",
    "plt.show()\n"
   ]
  },
  {
   "cell_type": "code",
   "execution_count": 45,
   "id": "74463a81",
   "metadata": {},
   "outputs": [
    {
     "name": "stdout",
     "output_type": "stream",
     "text": [
      "                     Usage_kWh  Anomaly\n",
      "date                                   \n",
      "2018-01-01 00:15:00       3.17        0\n",
      "2018-01-01 00:30:00       4.00        0\n",
      "2018-01-01 00:45:00       3.24        0\n",
      "2018-01-01 01:00:00       3.31        0\n",
      "2018-01-01 01:15:00       3.82        0\n",
      "...                        ...      ...\n",
      "2018-12-31 23:00:00       3.85        0\n",
      "2018-12-31 23:15:00       3.74        0\n",
      "2018-12-31 23:30:00       3.78        0\n",
      "2018-12-31 23:45:00       3.78        0\n",
      "2018-12-31 00:00:00       3.67        0\n",
      "\n",
      "[35040 rows x 2 columns]\n"
     ]
    }
   ],
   "source": [
    "# Calculate upper limit for anomalies (1.5 times the standard deviation)\n",
    "upper_limit = mean + 1.5 * std_dev\n",
    "\n",
    "# Add \"Anomaly\" column to the DataFrame\n",
    "df1_short['Anomaly'] = (df1_short[column_name] > upper_limit).astype(int)\n",
    "\n",
    "# Print DataFrame to verify\n",
    "print(df1_short)"
   ]
  },
  {
   "cell_type": "code",
   "execution_count": 46,
   "id": "b1530089",
   "metadata": {},
   "outputs": [
    {
     "data": {
      "text/plain": [
       "Usage_kWh    float64\n",
       "Anomaly        int32\n",
       "dtype: object"
      ]
     },
     "execution_count": 46,
     "metadata": {},
     "output_type": "execute_result"
    }
   ],
   "source": [
    "df1_short.dtypes"
   ]
  },
  {
   "cell_type": "code",
   "execution_count": 47,
   "id": "631d1e6e",
   "metadata": {},
   "outputs": [
    {
     "data": {
      "text/plain": [
       "0    31490\n",
       "1     3550\n",
       "Name: Anomaly, dtype: int64"
      ]
     },
     "execution_count": 47,
     "metadata": {},
     "output_type": "execute_result"
    }
   ],
   "source": [
    "# Check how many anomalies are present in the data\n",
    "\n",
    "occ = df1_short['Anomaly'].value_counts()\n",
    "occ"
   ]
  },
  {
   "cell_type": "code",
   "execution_count": 48,
   "id": "f081babb",
   "metadata": {
    "scrolled": true
   },
   "outputs": [
    {
     "data": {
      "text/html": [
       "<div>\n",
       "<style scoped>\n",
       "    .dataframe tbody tr th:only-of-type {\n",
       "        vertical-align: middle;\n",
       "    }\n",
       "\n",
       "    .dataframe tbody tr th {\n",
       "        vertical-align: top;\n",
       "    }\n",
       "\n",
       "    .dataframe thead th {\n",
       "        text-align: right;\n",
       "    }\n",
       "</style>\n",
       "<table border=\"1\" class=\"dataframe\">\n",
       "  <thead>\n",
       "    <tr style=\"text-align: right;\">\n",
       "      <th></th>\n",
       "      <th>Usage_kWh</th>\n",
       "      <th>Anomaly</th>\n",
       "    </tr>\n",
       "    <tr>\n",
       "      <th>date</th>\n",
       "      <th></th>\n",
       "      <th></th>\n",
       "    </tr>\n",
       "  </thead>\n",
       "  <tbody>\n",
       "    <tr>\n",
       "      <th>2018-01-01 00:15:00</th>\n",
       "      <td>3.17</td>\n",
       "      <td>0</td>\n",
       "    </tr>\n",
       "    <tr>\n",
       "      <th>2018-01-01 00:30:00</th>\n",
       "      <td>4.00</td>\n",
       "      <td>0</td>\n",
       "    </tr>\n",
       "    <tr>\n",
       "      <th>2018-01-01 00:45:00</th>\n",
       "      <td>3.24</td>\n",
       "      <td>0</td>\n",
       "    </tr>\n",
       "    <tr>\n",
       "      <th>2018-01-01 01:00:00</th>\n",
       "      <td>3.31</td>\n",
       "      <td>0</td>\n",
       "    </tr>\n",
       "    <tr>\n",
       "      <th>2018-01-01 01:15:00</th>\n",
       "      <td>3.82</td>\n",
       "      <td>0</td>\n",
       "    </tr>\n",
       "    <tr>\n",
       "      <th>...</th>\n",
       "      <td>...</td>\n",
       "      <td>...</td>\n",
       "    </tr>\n",
       "    <tr>\n",
       "      <th>2018-12-31 23:00:00</th>\n",
       "      <td>3.85</td>\n",
       "      <td>0</td>\n",
       "    </tr>\n",
       "    <tr>\n",
       "      <th>2018-12-31 23:15:00</th>\n",
       "      <td>3.74</td>\n",
       "      <td>0</td>\n",
       "    </tr>\n",
       "    <tr>\n",
       "      <th>2018-12-31 23:30:00</th>\n",
       "      <td>3.78</td>\n",
       "      <td>0</td>\n",
       "    </tr>\n",
       "    <tr>\n",
       "      <th>2018-12-31 23:45:00</th>\n",
       "      <td>3.78</td>\n",
       "      <td>0</td>\n",
       "    </tr>\n",
       "    <tr>\n",
       "      <th>2018-12-31 00:00:00</th>\n",
       "      <td>3.67</td>\n",
       "      <td>0</td>\n",
       "    </tr>\n",
       "  </tbody>\n",
       "</table>\n",
       "<p>35040 rows × 2 columns</p>\n",
       "</div>"
      ],
      "text/plain": [
       "                     Usage_kWh  Anomaly\n",
       "date                                   \n",
       "2018-01-01 00:15:00       3.17        0\n",
       "2018-01-01 00:30:00       4.00        0\n",
       "2018-01-01 00:45:00       3.24        0\n",
       "2018-01-01 01:00:00       3.31        0\n",
       "2018-01-01 01:15:00       3.82        0\n",
       "...                        ...      ...\n",
       "2018-12-31 23:00:00       3.85        0\n",
       "2018-12-31 23:15:00       3.74        0\n",
       "2018-12-31 23:30:00       3.78        0\n",
       "2018-12-31 23:45:00       3.78        0\n",
       "2018-12-31 00:00:00       3.67        0\n",
       "\n",
       "[35040 rows x 2 columns]"
      ]
     },
     "execution_count": 48,
     "metadata": {},
     "output_type": "execute_result"
    }
   ],
   "source": [
    "df1_short"
   ]
  },
  {
   "cell_type": "markdown",
   "id": "7c49b0b5",
   "metadata": {},
   "source": [
    "### CNN Model"
   ]
  },
  {
   "cell_type": "code",
   "execution_count": 55,
   "id": "df0cb76f",
   "metadata": {},
   "outputs": [],
   "source": [
    "# Extract input (X) and output (y) columns\n",
    "X = df1_short[['Usage_kWh']].values  # Input\n",
    "y = df1_short['Anomaly'].values   # Output\n"
   ]
  },
  {
   "cell_type": "code",
   "execution_count": 56,
   "id": "83e9e37f",
   "metadata": {},
   "outputs": [],
   "source": [
    "# Split the dataset into training and testing sets\n",
    "X_train, X_test, y_train, y_test = train_test_split(X, y, test_size=0.2, random_state=42)"
   ]
  },
  {
   "cell_type": "code",
   "execution_count": 57,
   "id": "f1da87a8",
   "metadata": {},
   "outputs": [],
   "source": [
    "# Reshape input data for Conv1D\n",
    "X_train = X_train.reshape(X_train.shape[0], X_train.shape[1], 1)\n",
    "X_test = X_test.reshape(X_test.shape[0], X_test.shape[1], 1)"
   ]
  },
  {
   "cell_type": "code",
   "execution_count": 61,
   "id": "8f67eff8",
   "metadata": {},
   "outputs": [],
   "source": [
    "# Define the model\n",
    "model = Sequential([\n",
    "    Dense(64, activation='relu', input_shape=(1,)),  # Input layer\n",
    "    Dense(32, activation='relu'),                   # Hidden layer\n",
    "    Dense(1, activation='sigmoid')                   # Output layer\n",
    "])\n"
   ]
  },
  {
   "cell_type": "code",
   "execution_count": 62,
   "id": "d4010f85",
   "metadata": {},
   "outputs": [],
   "source": [
    "# Compile the model\n",
    "model.compile(optimizer='adam', loss='binary_crossentropy', metrics=['accuracy'])\n"
   ]
  },
  {
   "cell_type": "code",
   "execution_count": 63,
   "id": "0aafbffb",
   "metadata": {},
   "outputs": [
    {
     "name": "stdout",
     "output_type": "stream",
     "text": [
      "Epoch 1/10\n",
      "876/876 [==============================] - 2s 2ms/step - loss: 0.2139 - accuracy: 0.9519 - val_loss: 0.0536 - val_accuracy: 0.9874\n",
      "Epoch 2/10\n",
      "876/876 [==============================] - 1s 1ms/step - loss: 0.0438 - accuracy: 0.9878 - val_loss: 0.0293 - val_accuracy: 0.9966\n",
      "Epoch 3/10\n",
      "876/876 [==============================] - 1s 1ms/step - loss: 0.0306 - accuracy: 0.9896 - val_loss: 0.0273 - val_accuracy: 0.9890\n",
      "Epoch 4/10\n",
      "876/876 [==============================] - 1s 1ms/step - loss: 0.0317 - accuracy: 0.9874 - val_loss: 0.0341 - val_accuracy: 0.9810\n",
      "Epoch 5/10\n",
      "876/876 [==============================] - 1s 1ms/step - loss: 0.0270 - accuracy: 0.9895 - val_loss: 0.0467 - val_accuracy: 0.9772\n",
      "Epoch 6/10\n",
      "876/876 [==============================] - 1s 1ms/step - loss: 0.0225 - accuracy: 0.9901 - val_loss: 0.0119 - val_accuracy: 0.9987\n",
      "Epoch 7/10\n",
      "876/876 [==============================] - 1s 1ms/step - loss: 0.0191 - accuracy: 0.9920 - val_loss: 0.0139 - val_accuracy: 0.9936\n",
      "Epoch 8/10\n",
      "876/876 [==============================] - 1s 1ms/step - loss: 0.0247 - accuracy: 0.9907 - val_loss: 0.0416 - val_accuracy: 0.9789\n",
      "Epoch 9/10\n",
      "876/876 [==============================] - 1s 1ms/step - loss: 0.0207 - accuracy: 0.9910 - val_loss: 0.0116 - val_accuracy: 0.9953\n",
      "Epoch 10/10\n",
      "876/876 [==============================] - 1s 1ms/step - loss: 0.0196 - accuracy: 0.9914 - val_loss: 0.0247 - val_accuracy: 0.9866\n"
     ]
    }
   ],
   "source": [
    "# Train the model\n",
    "history = model.fit(X_train, y_train, epochs=10, batch_size=32, validation_data=(X_test, y_test))"
   ]
  },
  {
   "cell_type": "code",
   "execution_count": 64,
   "id": "5d099ca6",
   "metadata": {},
   "outputs": [
    {
     "name": "stdout",
     "output_type": "stream",
     "text": [
      "219/219 [==============================] - 0s 1ms/step - loss: 0.0247 - accuracy: 0.9866\n",
      "Test accuracy: 0.9865867495536804\n"
     ]
    }
   ],
   "source": [
    "# Evaluate the model\n",
    "test_loss, test_acc = model.evaluate(X_test, y_test)\n",
    "print('Test accuracy:', test_acc)"
   ]
  },
  {
   "cell_type": "code",
   "execution_count": 66,
   "id": "89f72de2",
   "metadata": {},
   "outputs": [
    {
     "name": "stdout",
     "output_type": "stream",
     "text": [
      "219/219 [==============================] - 0s 991us/step\n",
      "Confusion Matrix:\n",
      "[[6281    0]\n",
      " [  94  633]]\n",
      "\n",
      "Classification Report:\n",
      "              precision    recall  f1-score   support\n",
      "\n",
      "           0       0.99      1.00      0.99      6281\n",
      "           1       1.00      0.87      0.93       727\n",
      "\n",
      "    accuracy                           0.99      7008\n",
      "   macro avg       0.99      0.94      0.96      7008\n",
      "weighted avg       0.99      0.99      0.99      7008\n",
      "\n"
     ]
    }
   ],
   "source": [
    "# Make predictions\n",
    "y_pred_prob = model.predict(X_test)\n",
    "y_pred = (y_pred_prob > 0.5).astype(int)\n",
    "\n",
    "# Convert predictions to 1D array\n",
    "y_pred = y_pred.ravel()\n",
    "\n",
    "# Print confusion matrix\n",
    "print(\"Confusion Matrix:\")\n",
    "print(confusion_matrix(y_test, y_pred))\n",
    "\n",
    "# Print classification report\n",
    "print(\"\\nClassification Report:\")\n",
    "print(classification_report(y_test, y_pred))\n"
   ]
  },
  {
   "cell_type": "code",
   "execution_count": 67,
   "id": "271ad78b",
   "metadata": {},
   "outputs": [
    {
     "data": {
      "text/plain": [
       "<Figure size 576x432 with 0 Axes>"
      ]
     },
     "execution_count": 67,
     "metadata": {},
     "output_type": "execute_result"
    },
    {
     "data": {
      "text/plain": [
       "<AxesSubplot:>"
      ]
     },
     "execution_count": 67,
     "metadata": {},
     "output_type": "execute_result"
    },
    {
     "data": {
      "text/plain": [
       "Text(0.5, 8.73999999999998, 'Predicted Labels')"
      ]
     },
     "execution_count": 67,
     "metadata": {},
     "output_type": "execute_result"
    },
    {
     "data": {
      "text/plain": [
       "Text(24.579999999999995, 0.5, 'True Labels')"
      ]
     },
     "execution_count": 67,
     "metadata": {},
     "output_type": "execute_result"
    },
    {
     "data": {
      "text/plain": [
       "Text(0.5, 1.0, 'Confusion Matrix')"
      ]
     },
     "execution_count": 67,
     "metadata": {},
     "output_type": "execute_result"
    },
    {
     "data": {
      "image/png": "[encoded data removed]",
      "text/plain": [
       "<Figure size 576x432 with 1 Axes>"
      ]
     },
     "metadata": {},
     "output_type": "display_data"
    }
   ],
   "source": [
    "# Plot confusion matrix\n",
    "cm = confusion_matrix(y_test, y_pred)\n",
    "plt.figure(figsize=(8, 6))\n",
    "sns.heatmap(cm, annot=True, fmt='d', cmap='Blues', cbar=False, \n",
    "            xticklabels=['Normal', 'Anomaly'], yticklabels=['Normal', 'Anomaly'])\n",
    "plt.xlabel('Predicted Labels')\n",
    "plt.ylabel('True Labels')\n",
    "plt.title('Confusion Matrix')\n",
    "plt.show()\n"
   ]
  },
  {
   "cell_type": "markdown",
   "id": "9db6cdaa",
   "metadata": {},
   "source": [
    "### RNN model"
   ]
  },
  {
   "cell_type": "code",
   "execution_count": 68,
   "id": "d5749012",
   "metadata": {},
   "outputs": [],
   "source": [
    "# Define the RNN model\n",
    "rnn_model = Sequential([\n",
    "    SimpleRNN(32, activation='relu', input_shape=(X_train.shape[1], 1)),\n",
    "    Dense(1, activation='sigmoid')\n",
    "])"
   ]
  },
  {
   "cell_type": "code",
   "execution_count": 69,
   "id": "50ee90d3",
   "metadata": {},
   "outputs": [],
   "source": [
    "# Compile the model\n",
    "rnn_model.compile(optimizer='adam', loss='binary_crossentropy', metrics=['accuracy'])\n"
   ]
  },
  {
   "cell_type": "code",
   "execution_count": 70,
   "id": "9a7db402",
   "metadata": {},
   "outputs": [
    {
     "name": "stdout",
     "output_type": "stream",
     "text": [
      "Epoch 1/10\n",
      "876/876 [==============================] - 3s 2ms/step - loss: 0.3728 - accuracy: 0.9309 - val_loss: 0.1867 - val_accuracy: 0.9638\n",
      "Epoch 2/10\n",
      "876/876 [==============================] - 1s 2ms/step - loss: 0.1346 - accuracy: 0.9778 - val_loss: 0.1018 - val_accuracy: 0.9739\n",
      "Epoch 3/10\n",
      "876/876 [==============================] - 1s 1ms/step - loss: 0.0834 - accuracy: 0.9863 - val_loss: 0.0717 - val_accuracy: 0.9797\n",
      "Epoch 4/10\n",
      "876/876 [==============================] - 1s 2ms/step - loss: 0.0614 - accuracy: 0.9898 - val_loss: 0.0543 - val_accuracy: 0.9864\n",
      "Epoch 5/10\n",
      "876/876 [==============================] - 1s 1ms/step - loss: 0.0487 - accuracy: 0.9905 - val_loss: 0.0430 - val_accuracy: 0.9940\n",
      "Epoch 6/10\n",
      "876/876 [==============================] - 1s 1ms/step - loss: 0.0414 - accuracy: 0.9913 - val_loss: 0.0363 - val_accuracy: 0.9961\n",
      "Epoch 7/10\n",
      "876/876 [==============================] - 1s 1ms/step - loss: 0.0352 - accuracy: 0.9933 - val_loss: 0.0317 - val_accuracy: 0.9946\n",
      "Epoch 8/10\n",
      "876/876 [==============================] - 1s 2ms/step - loss: 0.0314 - accuracy: 0.9942 - val_loss: 0.0364 - val_accuracy: 0.9824\n",
      "Epoch 9/10\n",
      "876/876 [==============================] - 1s 1ms/step - loss: 0.0287 - accuracy: 0.9943 - val_loss: 0.0253 - val_accuracy: 0.9969\n",
      "Epoch 10/10\n",
      "876/876 [==============================] - 1s 2ms/step - loss: 0.0258 - accuracy: 0.9941 - val_loss: 0.0285 - val_accuracy: 0.9867\n"
     ]
    }
   ],
   "source": [
    "# Train the model\n",
    "rnn_history = rnn_model.fit(X_train, y_train, epochs=10, batch_size=32, validation_data=(X_test, y_test))\n"
   ]
  },
  {
   "cell_type": "code",
   "execution_count": 71,
   "id": "eb591982",
   "metadata": {},
   "outputs": [
    {
     "name": "stdout",
     "output_type": "stream",
     "text": [
      "219/219 [==============================] - 0s 1ms/step - loss: 0.0285 - accuracy: 0.9867\n",
      "RNN Test accuracy: 0.9867294430732727\n"
     ]
    }
   ],
   "source": [
    "# Evaluate the model\n",
    "rnn_test_loss, rnn_test_acc = rnn_model.evaluate(X_test, y_test)\n",
    "print('RNN Test accuracy:', rnn_test_acc)\n"
   ]
  },
  {
   "cell_type": "code",
   "execution_count": 72,
   "id": "5da94515",
   "metadata": {},
   "outputs": [
    {
     "name": "stdout",
     "output_type": "stream",
     "text": [
      "219/219 [==============================] - 0s 999us/step\n"
     ]
    }
   ],
   "source": [
    "# Make predictions\n",
    "rnn_y_pred_prob = rnn_model.predict(X_test)\n",
    "rnn_y_pred = (rnn_y_pred_prob > 0.5).astype(int)\n"
   ]
  },
  {
   "cell_type": "code",
   "execution_count": 73,
   "id": "3a426aeb",
   "metadata": {},
   "outputs": [
    {
     "name": "stdout",
     "output_type": "stream",
     "text": [
      "RNN Confusion Matrix:\n",
      "[[6281    0]\n",
      " [  93  634]]\n"
     ]
    }
   ],
   "source": [
    "# Print confusion matrix\n",
    "print(\"RNN Confusion Matrix:\")\n",
    "print(confusion_matrix(y_test, rnn_y_pred))\n"
   ]
  },
  {
   "cell_type": "code",
   "execution_count": 74,
   "id": "5bc17ae6",
   "metadata": {},
   "outputs": [
    {
     "name": "stdout",
     "output_type": "stream",
     "text": [
      "\n",
      "RNN Classification Report:\n",
      "              precision    recall  f1-score   support\n",
      "\n",
      "           0       0.99      1.00      0.99      6281\n",
      "           1       1.00      0.87      0.93       727\n",
      "\n",
      "    accuracy                           0.99      7008\n",
      "   macro avg       0.99      0.94      0.96      7008\n",
      "weighted avg       0.99      0.99      0.99      7008\n",
      "\n"
     ]
    }
   ],
   "source": [
    "# Print classification report\n",
    "print(\"\\nRNN Classification Report:\")\n",
    "print(classification_report(y_test, rnn_y_pred))"
   ]
  },
  {
   "cell_type": "code",
   "execution_count": 75,
   "id": "0718db73",
   "metadata": {},
   "outputs": [
    {
     "data": {
      "text/plain": [
       "<Figure size 576x432 with 0 Axes>"
      ]
     },
     "execution_count": 75,
     "metadata": {},
     "output_type": "execute_result"
    },
    {
     "data": {
      "text/plain": [
       "<AxesSubplot:>"
      ]
     },
     "execution_count": 75,
     "metadata": {},
     "output_type": "execute_result"
    },
    {
     "data": {
      "text/plain": [
       "Text(0.5, 8.73999999999998, 'Predicted Labels')"
      ]
     },
     "execution_count": 75,
     "metadata": {},
     "output_type": "execute_result"
    },
    {
     "data": {
      "text/plain": [
       "Text(24.579999999999995, 0.5, 'True Labels')"
      ]
     },
     "execution_count": 75,
     "metadata": {},
     "output_type": "execute_result"
    },
    {
     "data": {
      "text/plain": [
       "Text(0.5, 1.0, 'RNN Confusion Matrix')"
      ]
     },
     "execution_count": 75,
     "metadata": {},
     "output_type": "execute_result"
    },
    {
     "data": {
      "image/png": "[encoded data removed]",
      "text/plain": [
       "<Figure size 576x432 with 1 Axes>"
      ]
     },
     "metadata": {},
     "output_type": "display_data"
    }
   ],
   "source": [
    "# Plot confusion matrix for RNN model\n",
    "rnn_cm = confusion_matrix(y_test, rnn_y_pred)\n",
    "plt.figure(figsize=(8, 6))\n",
    "sns.heatmap(rnn_cm, annot=True, fmt='d', cmap='Blues', cbar=False, \n",
    "            xticklabels=['Normal', 'Anomaly'], yticklabels=['Normal', 'Anomaly'])\n",
    "plt.xlabel('Predicted Labels')\n",
    "plt.ylabel('True Labels')\n",
    "plt.title('RNN Confusion Matrix')\n",
    "plt.show()\n"
   ]
  },
  {
   "cell_type": "markdown",
   "id": "4c7cb2bb",
   "metadata": {},
   "source": [
    "### MLP Model"
   ]
  },
  {
   "cell_type": "code",
   "execution_count": 76,
   "id": "6021e608",
   "metadata": {},
   "outputs": [],
   "source": [
    "# Define the MLP model\n",
    "mlp_model = Sequential([\n",
    "    Dense(64, activation='relu', input_shape=(1,)),\n",
    "    Dense(32, activation='relu'),\n",
    "    Dense(1, activation='sigmoid')\n",
    "])\n"
   ]
  },
  {
   "cell_type": "code",
   "execution_count": 77,
   "id": "37e12b27",
   "metadata": {},
   "outputs": [],
   "source": [
    "# Compile the model\n",
    "mlp_model.compile(optimizer='adam', loss='binary_crossentropy', metrics=['accuracy'])\n"
   ]
  },
  {
   "cell_type": "code",
   "execution_count": 78,
   "id": "62261d10",
   "metadata": {},
   "outputs": [
    {
     "name": "stdout",
     "output_type": "stream",
     "text": [
      "Epoch 1/10\n",
      "876/876 [==============================] - 3s 3ms/step - loss: 0.2082 - accuracy: 0.9449 - val_loss: 0.1118 - val_accuracy: 0.9458\n",
      "Epoch 2/10\n",
      "876/876 [==============================] - 2s 2ms/step - loss: 0.0485 - accuracy: 0.9846 - val_loss: 0.0327 - val_accuracy: 0.9926\n",
      "Epoch 3/10\n",
      "876/876 [==============================] - 2s 2ms/step - loss: 0.0399 - accuracy: 0.9846 - val_loss: 0.0372 - val_accuracy: 0.9836\n",
      "Epoch 4/10\n",
      "876/876 [==============================] - 2s 3ms/step - loss: 0.0333 - accuracy: 0.9876 - val_loss: 0.0177 - val_accuracy: 0.9980\n",
      "Epoch 5/10\n",
      "876/876 [==============================] - 2s 2ms/step - loss: 0.0220 - accuracy: 0.9914 - val_loss: 0.0140 - val_accuracy: 0.9987\n",
      "Epoch 6/10\n",
      "876/876 [==============================] - 2s 2ms/step - loss: 0.0238 - accuracy: 0.9900 - val_loss: 0.0123 - val_accuracy: 0.9981\n",
      "Epoch 7/10\n",
      "876/876 [==============================] - 2s 2ms/step - loss: 0.0242 - accuracy: 0.9894 - val_loss: 0.0202 - val_accuracy: 0.9887\n",
      "Epoch 8/10\n",
      "876/876 [==============================] - 2s 2ms/step - loss: 0.0243 - accuracy: 0.9898 - val_loss: 0.0168 - val_accuracy: 0.9910\n",
      "Epoch 9/10\n",
      "876/876 [==============================] - 2s 2ms/step - loss: 0.0208 - accuracy: 0.9915 - val_loss: 0.0111 - val_accuracy: 0.9973\n",
      "Epoch 10/10\n",
      "876/876 [==============================] - 2s 2ms/step - loss: 0.0211 - accuracy: 0.9914 - val_loss: 0.0155 - val_accuracy: 0.9919\n"
     ]
    }
   ],
   "source": [
    "# Train the model\n",
    "mlp_history = mlp_model.fit(X_train, y_train, epochs=10, batch_size=32, validation_data=(X_test, y_test))\n"
   ]
  },
  {
   "cell_type": "code",
   "execution_count": 79,
   "id": "e94c4267",
   "metadata": {},
   "outputs": [
    {
     "name": "stdout",
     "output_type": "stream",
     "text": [
      "219/219 [==============================] - 0s 1ms/step - loss: 0.0155 - accuracy: 0.9919\n",
      "MLP Test accuracy: 0.991866409778595\n"
     ]
    }
   ],
   "source": [
    "# Evaluate the model\n",
    "mlp_test_loss, mlp_test_acc = mlp_model.evaluate(X_test, y_test)\n",
    "print('MLP Test accuracy:', mlp_test_acc)\n"
   ]
  },
  {
   "cell_type": "code",
   "execution_count": 80,
   "id": "af54f0a5",
   "metadata": {},
   "outputs": [
    {
     "name": "stdout",
     "output_type": "stream",
     "text": [
      "219/219 [==============================] - 0s 914us/step\n"
     ]
    }
   ],
   "source": [
    "# Make predictions\n",
    "mlp_y_pred_prob = mlp_model.predict(X_test)\n",
    "mlp_y_pred = (mlp_y_pred_prob > 0.5).astype(int)\n"
   ]
  },
  {
   "cell_type": "code",
   "execution_count": 81,
   "id": "28f05af7",
   "metadata": {},
   "outputs": [
    {
     "name": "stdout",
     "output_type": "stream",
     "text": [
      "MLP Confusion Matrix:\n",
      "[[6281    0]\n",
      " [  57  670]]\n"
     ]
    }
   ],
   "source": [
    "# Print confusion matrix\n",
    "print(\"MLP Confusion Matrix:\")\n",
    "print(confusion_matrix(y_test, mlp_y_pred))\n"
   ]
  },
  {
   "cell_type": "code",
   "execution_count": 82,
   "id": "b6195d7f",
   "metadata": {},
   "outputs": [
    {
     "name": "stdout",
     "output_type": "stream",
     "text": [
      "\n",
      "MLP Classification Report:\n",
      "              precision    recall  f1-score   support\n",
      "\n",
      "           0       0.99      1.00      1.00      6281\n",
      "           1       1.00      0.92      0.96       727\n",
      "\n",
      "    accuracy                           0.99      7008\n",
      "   macro avg       1.00      0.96      0.98      7008\n",
      "weighted avg       0.99      0.99      0.99      7008\n",
      "\n"
     ]
    }
   ],
   "source": [
    "# Print classification report\n",
    "print(\"\\nMLP Classification Report:\")\n",
    "print(classification_report(y_test, mlp_y_pred))"
   ]
  },
  {
   "cell_type": "code",
   "execution_count": 83,
   "id": "5f42a8d7",
   "metadata": {},
   "outputs": [
    {
     "data": {
      "text/plain": [
       "<Figure size 576x432 with 0 Axes>"
      ]
     },
     "execution_count": 83,
     "metadata": {},
     "output_type": "execute_result"
    },
    {
     "data": {
      "text/plain": [
       "<AxesSubplot:>"
      ]
     },
     "execution_count": 83,
     "metadata": {},
     "output_type": "execute_result"
    },
    {
     "data": {
      "text/plain": [
       "Text(0.5, 8.73999999999998, 'Predicted Labels')"
      ]
     },
     "execution_count": 83,
     "metadata": {},
     "output_type": "execute_result"
    },
    {
     "data": {
      "text/plain": [
       "Text(24.579999999999995, 0.5, 'True Labels')"
      ]
     },
     "execution_count": 83,
     "metadata": {},
     "output_type": "execute_result"
    },
    {
     "data": {
      "text/plain": [
       "Text(0.5, 1.0, 'MLP Confusion Matrix')"
      ]
     },
     "execution_count": 83,
     "metadata": {},
     "output_type": "execute_result"
    },
    {
     "data": {
      "image/png": "[encoded data removed]",
      "text/plain": [
       "<Figure size 576x432 with 1 Axes>"
      ]
     },
     "metadata": {},
     "output_type": "display_data"
    }
   ],
   "source": [
    "# Plot confusion matrix for MLP model\n",
    "mlp_cm = confusion_matrix(y_test, mlp_y_pred)\n",
    "plt.figure(figsize=(8, 6))\n",
    "sns.heatmap(mlp_cm, annot=True, fmt='d', cmap='Blues', cbar=False, \n",
    "            xticklabels=['Normal', 'Anomaly'], yticklabels=['Normal', 'Anomaly'])\n",
    "plt.xlabel('Predicted Labels')\n",
    "plt.ylabel('True Labels')\n",
    "plt.title('MLP Confusion Matrix')\n",
    "plt.show()\n"
   ]
  },
  {
   "cell_type": "code",
   "execution_count": 89,
   "id": "790eddcd",
   "metadata": {},
   "outputs": [
    {
     "data": {
      "text/plain": [
       "Text(0.5, 0, 'Models')"
      ]
     },
     "execution_count": 89,
     "metadata": {},
     "output_type": "execute_result"
    },
    {
     "data": {
      "text/plain": [
       "Text(0, 0.5, 'Scores')"
      ]
     },
     "execution_count": 89,
     "metadata": {},
     "output_type": "execute_result"
    },
    {
     "data": {
      "text/plain": [
       "Text(0.5, 1.0, 'Evaluation Metrics by Model')"
      ]
     },
     "execution_count": 89,
     "metadata": {},
     "output_type": "execute_result"
    },
    {
     "data": {
      "text/plain": [
       "([<matplotlib.axis.XTick at 0x1be33d11430>,\n",
       "  <matplotlib.axis.XTick at 0x1be33d11340>,\n",
       "  <matplotlib.axis.XTick at 0x1be33d290d0>],\n",
       " [Text(0.30000000000000004, 0, 'CNN'),\n",
       "  Text(1.3, 0, 'RNN'),\n",
       "  Text(2.3, 0, 'MLP')])"
      ]
     },
     "execution_count": 89,
     "metadata": {},
     "output_type": "execute_result"
    },
    {
     "data": {
      "text/plain": [
       "<matplotlib.legend.Legend at 0x1be345029a0>"
      ]
     },
     "execution_count": 89,
     "metadata": {},
     "output_type": "execute_result"
    },
    {
     "data": {
      "image/png": "[encoded data removed]",
      "text/plain": [
       "<Figure size 864x576 with 1 Axes>"
      ]
     },
     "metadata": {},
     "output_type": "display_data"
    }
   ],
   "source": [
    "# Define evaluation metrics for each model\n",
    "models = ['CNN', 'RNN', 'MLP']\n",
    "accuracy = [test_acc, rnn_test_acc, mlp_test_acc]\n",
    "precision = [precision_score(y_test, y_pred), precision_score(y_test, rnn_y_pred), precision_score(y_test, mlp_y_pred)]\n",
    "recall = [recall_score(y_test, y_pred), recall_score(y_test, rnn_y_pred), recall_score(y_test, mlp_y_pred)]\n",
    "f1 = [f1_score(y_test, y_pred), f1_score(y_test, rnn_y_pred), f1_score(y_test, mlp_y_pred)]\n",
    "\n",
    "# Plot evaluation metrics\n",
    "fig, ax = plt.subplots(figsize=(12, 8))\n",
    "index = range(len(models))\n",
    "\n",
    "bar_width = 0.2\n",
    "opacity = 0.8\n",
    "\n",
    "rects1 = plt.bar(index, accuracy, bar_width, alpha=opacity, color='b', label='Accuracy')\n",
    "rects2 = plt.bar([p + bar_width for p in index], precision, bar_width, alpha=opacity, color='g', label='Precision')\n",
    "rects3 = plt.bar([p + 2 * bar_width for p in index], recall, bar_width, alpha=opacity, color='r', label='Recall')\n",
    "rects4 = plt.bar([p + 3 * bar_width for p in index], f1, bar_width, alpha=opacity, color='y', label='F1 Score')\n",
    "\n",
    "plt.xlabel('Models')\n",
    "plt.ylabel('Scores')\n",
    "plt.title('Evaluation Metrics by Model')\n",
    "plt.xticks([p + 1.5 * bar_width for p in index], models)\n",
    "plt.legend(prop={'size': 8})\n",
    "\n",
    "plt.tight_layout()\n",
    "plt.show()\n"
   ]
  },
  {
   "cell_type": "code",
   "execution_count": null,
   "id": "48ca2c3c",
   "metadata": {},
   "outputs": [],
   "source": []
  }
 ],
 "metadata": {
  "kernelspec": {
   "display_name": "Python 3 (ipykernel)",
   "language": "python",
   "name": "python3"
  },
  "language_info": {
   "codemirror_mode": {
    "name": "ipython",
    "version": 3
   },
   "file_extension": ".py",
   "mimetype": "text/x-python",
   "name": "python",
   "nbconvert_exporter": "python",
   "pygments_lexer": "ipython3",
   "version": "3.11.7"
  }
 },
 "nbformat": 4,
 "nbformat_minor": 5
}
